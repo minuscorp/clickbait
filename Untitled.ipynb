{
 "cells": [
  {
   "cell_type": "code",
   "execution_count": 1,
   "metadata": {
    "collapsed": false
   },
   "outputs": [
    {
     "name": "stderr",
     "output_type": "stream",
     "text": [
      "/Users/GabrielVillarrubia/anaconda/lib/python2.7/site-packages/sklearn/base.py:315: UserWarning: Trying to unpickle estimator GaussianNB from version pre-0.18 when using version 0.18. This might lead to breaking code or invalid results. Use at your own risk.\n",
      "  UserWarning)\n"
     ]
    }
   ],
   "source": [
    "import numpy as np\n",
    "from sklearn import preprocessing,svm\n",
    "from sklearn.pipeline import Pipeline\n",
    "import nltk\n",
    "import subprocess\n",
    "import time\n",
    "import utility\n",
    "from sklearn.model_selection import GridSearchCV, cross_val_score\n",
    "from sklearn.metrics import classification_report, accuracy_score\n",
    "from scipy import interp\n",
    "import matplotlib.pyplot as plt\n",
    "from itertools import cycle\n",
    "from sklearn import svm, datasets\n",
    "from sklearn.metrics import roc_curve, auc\n",
    "from sklearn.model_selection import StratifiedKFold"
   ]
  },
  {
   "cell_type": "code",
   "execution_count": 2,
   "metadata": {
    "collapsed": false
   },
   "outputs": [
    {
     "name": "stdout",
     "output_type": "stream",
     "text": [
      "creating classifier...\n",
      "Classifer created\n"
     ]
    }
   ],
   "source": [
    "# Load data\n",
    "print \"creating classifier...\"\n",
    "no_samples = 10000\n",
    "positive = np.loadtxt(\"vectors/positive.csv\",  delimiter=',')\n",
    "negetive = np.loadtxt(\"vectors/negative.csv\", delimiter=',')\n",
    "X = np.concatenate((positive, negetive), axis=0)\n",
    "p = np.ones((no_samples, 1))\n",
    "n = np.full((no_samples, 1), -1, dtype=np.int64)\n",
    "Y = np.concatenate((p,n), axis=0)\n",
    "y = Y.ravel()\n",
    "#scale\n",
    "scaler = preprocessing.StandardScaler().fit(X)\n",
    "#classifying\n",
    "svm_module = svm.SVC(probability=True)\n",
    "classifier = Pipeline(steps= [('svm', svm_module)]) #[('scale', scaler), ('svm', svm_module)])\n",
    "classifier.fit(X, y)\n",
    "print \"Classifer created\""
   ]
  },
  {
   "cell_type": "code",
   "execution_count": 3,
   "metadata": {
    "collapsed": false
   },
   "outputs": [
    {
     "name": "stdout",
     "output_type": "stream",
     "text": [
      "Acc: 0.929300 +- 0.006893\n",
      "Pre: 0.952181 +- 0.004174\n",
      "Rec: 0.904000 +- 0.012594\n",
      "AUC: 0.974534 +- 0.003706\n"
     ]
    }
   ],
   "source": [
    "acc = cross_val_score(classifier, X, y, cv=10, scoring='accuracy')\n",
    "pre = cross_val_score(classifier, X, y, cv=10, scoring='precision')\n",
    "rec = cross_val_score(classifier, X, y, cv=10, scoring='recall')\n",
    "roc = cross_val_score(classifier, X, y, cv=10, scoring='roc_auc')\n",
    "print \"Acc: %f +- %f\"%(np.mean(acc), np.std(acc))\n",
    "print \"Pre: %f +- %f\"%(np.mean(pre), np.std(pre))\n",
    "print \"Rec: %f +- %f\"%(np.mean(rec), np.std(rec))\n",
    "print \"AUC: %f +- %f\"%(np.mean(roc), np.std(roc))"
   ]
  },
  {
   "cell_type": "code",
   "execution_count": null,
   "metadata": {
    "collapsed": false
   },
   "outputs": [],
   "source": [
    "crossValidation = StratifiedKFold(n_splits=10)\n",
    "mean_tpr = 0.0\n",
    "mean_fpr = np.linspace(0,1,100)\n",
    "\n",
    "colors = cycle(['cyan', 'indigo', 'seagreen', 'yellow', 'blue', 'darkorange', 'blue', 'red', 'brown', 'black'])\n",
    "lw = 2\n",
    "\n",
    "i = 0\n",
    "\n",
    "\n",
    "for (train, test), color in zip(crossValidation.split(X, y), colors):\n",
    "    probas_ = classifier.fit(X[train], y[train]).predict_proba(X[test])\n",
    "    fpr, tpr, thresholds = roc_curve(y[test], probas_[:, 1])\n",
    "    mean_tpr += interp(mean_fpr, fpr, tpr)\n",
    "    mean_tpr[0] = 0.0\n",
    "    roc_auc = auc(fpr, tpr)\n",
    "    #plt.plot(fpr, tpr, lw=lw, color=color, label=\"ROC fold %d (area = %0.2f)\"%(i, roc_auc))\n",
    "    i += 1\n",
    "    \n",
    "plt.plot([0, 1], [0, 1], linestyle='--', lw=lw, color='k',\n",
    "         label='Luck')\n",
    "\n",
    "\n",
    "mean_tpr /= crossValidation.get_n_splits(X, Y)\n",
    "mean_tpr[-1] = 1.0\n",
    "mean_auc = auc(mean_fpr, mean_tpr)\n",
    "plt.plot(mean_fpr, mean_tpr, color='g', linestyle='--',\n",
    "         label='Mean ROC (area = %0.2f)' % mean_auc, lw=lw)\n",
    "\n",
    "plt.xlim([-0.05, 1.05])\n",
    "plt.ylim([-0.05, 1.05])\n",
    "plt.xlabel('False Positive Rate')\n",
    "plt.ylabel('True Positive Rate')\n",
    "plt.title('Best estimator for TF-IDF & LR')\n",
    "plt.legend(loc=\"lower right\")\n",
    "plt.show()\n",
    "\n",
    "#\n",
    "# Name your results -\n",
    "#                  ||\n",
    "#                  V\n",
    "np.savetxt(\"state_of_art.csv\", np.asarray([mean_fpr, mean_tpr]), delimiter=\",\")\n",
    "\n"
   ]
  },
  {
   "cell_type": "code",
   "execution_count": null,
   "metadata": {
    "collapsed": true
   },
   "outputs": [],
   "source": []
  }
 ],
 "metadata": {
  "kernelspec": {
   "display_name": "Python 2",
   "language": "python",
   "name": "python2"
  },
  "language_info": {
   "codemirror_mode": {
    "name": "ipython",
    "version": 2
   },
   "file_extension": ".py",
   "mimetype": "text/x-python",
   "name": "python",
   "nbconvert_exporter": "python",
   "pygments_lexer": "ipython2",
   "version": "2.7.11"
  }
 },
 "nbformat": 4,
 "nbformat_minor": 0
}
